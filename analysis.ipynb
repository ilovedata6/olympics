{
 "cells": [
  {
   "cell_type": "code",
   "execution_count": 2,
   "metadata": {},
   "outputs": [],
   "source": [
    "import numpy as np\n",
    "import pandas as pd"
   ]
  },
  {
   "cell_type": "code",
   "execution_count": null,
   "metadata": {},
   "outputs": [],
   "source": [
    "df_regions = pd.read_csv('noc_regions.csv')\n",
    "df_regions.head()"
   ]
  },
  {
   "cell_type": "code",
   "execution_count": null,
   "metadata": {},
   "outputs": [],
   "source": [
    "df = pd.read_csv('athlete_events.csv')\n",
    "df.head()"
   ]
  },
  {
   "cell_type": "markdown",
   "metadata": {},
   "source": [
    "**As i am only doing analysis of the Summer Olympics so I'll filter out the entries of Winter olypmics**"
   ]
  },
  {
   "cell_type": "code",
   "execution_count": null,
   "metadata": {},
   "outputs": [],
   "source": [
    "df = df[df['Season'] == 'Summer']"
   ]
  },
  {
   "cell_type": "code",
   "execution_count": null,
   "metadata": {},
   "outputs": [],
   "source": [
    "df.columns"
   ]
  },
  {
   "cell_type": "markdown",
   "metadata": {},
   "source": [
    "Column Name | Description\n",
    "------------|--------------\n",
    "ID | Unique number for each athlete\n",
    "Name | Name of the athlete\n",
    "Sex | Gender M or F\n",
    "Age | Age of the athlete\n",
    "Height | Height of the athlete\n",
    "Weight | Weight of the athlete\n",
    "Team | Team name\n",
    "NOC | National Olympic Committee 3-letter code\n",
    "Games | Year and season\n",
    "Year | Year of the Olympics games\n",
    "Season | Season of the Olympics games\n",
    "City | Host city\n",
    "Sport | Sport Name\n",
    "Event | Categories of Events\n",
    "Medal | Gold, Silver, Bronze, or NA\n",
    "Region | Name of the country\n"
   ]
  },
  {
   "cell_type": "code",
   "execution_count": null,
   "metadata": {},
   "outputs": [],
   "source": [
    "# Merging the two datasets to get Name of the countries\n",
    "df = df.merge(df_regions,on='NOC',how='left')\n",
    "df.head()"
   ]
  },
  {
   "cell_type": "code",
   "execution_count": null,
   "metadata": {},
   "outputs": [],
   "source": [
    "# Checking for Null Values\n",
    "null_values = (df.isnull().sum()/df.shape[0])*100\n",
    "print('\\tPercentage of Null Values in Each Column \\n\\n',null_values)"
   ]
  },
  {
   "cell_type": "code",
   "execution_count": null,
   "metadata": {},
   "outputs": [],
   "source": [
    "df.duplicated().sum()"
   ]
  },
  {
   "cell_type": "code",
   "execution_count": null,
   "metadata": {},
   "outputs": [],
   "source": [
    "df.drop_duplicates(inplace=True)"
   ]
  },
  {
   "cell_type": "code",
   "execution_count": null,
   "metadata": {},
   "outputs": [],
   "source": [
    "df.duplicated().sum()"
   ]
  },
  {
   "cell_type": "code",
   "execution_count": null,
   "metadata": {},
   "outputs": [],
   "source": [
    "df = pd.concat([df,pd.get_dummies(df['Medal'])],axis=1)\n",
    "df.head()"
   ]
  },
  {
   "cell_type": "markdown",
   "metadata": {},
   "source": [
    "Now we tally the number of medals won by each country in the Summer Olympics."
   ]
  },
  {
   "cell_type": "code",
   "execution_count": null,
   "metadata": {},
   "outputs": [],
   "source": [
    "medals = df.drop_duplicates(subset=['Team','NOC','Games','Year','City','Sport','Event','Medal'])\n",
    "medals.shape"
   ]
  },
  {
   "cell_type": "code",
   "execution_count": null,
   "metadata": {},
   "outputs": [],
   "source": [
    "medal_tally = medals.groupby('NOC').sum()[['Gold','Silver','Bronze']].sort_values('Gold',ascending=False).reset_index()\n",
    "medal_tally['Total'] = medal_tally['Gold'] + medal_tally['Silver'] + medal_tally['Bronze']\n"
   ]
  },
  {
   "cell_type": "code",
   "execution_count": null,
   "metadata": {},
   "outputs": [],
   "source": [
    "medal_tally[['Total','Gold','Silver','Bronze']]=medal_tally[['Total','Gold','Silver','Bronze']].astype('int')"
   ]
  },
  {
   "cell_type": "code",
   "execution_count": null,
   "metadata": {},
   "outputs": [],
   "source": [
    "years = df['Year'].unique().tolist()"
   ]
  },
  {
   "cell_type": "code",
   "execution_count": null,
   "metadata": {},
   "outputs": [],
   "source": [
    "years.sort()"
   ]
  },
  {
   "cell_type": "code",
   "execution_count": null,
   "metadata": {},
   "outputs": [],
   "source": [
    "years.insert(0,'OverAll')"
   ]
  },
  {
   "cell_type": "code",
   "execution_count": null,
   "metadata": {},
   "outputs": [],
   "source": [
    "country=np.unique(df['region'].dropna().values).tolist()"
   ]
  },
  {
   "cell_type": "code",
   "execution_count": null,
   "metadata": {},
   "outputs": [],
   "source": [
    "country.sort()"
   ]
  },
  {
   "cell_type": "code",
   "execution_count": null,
   "metadata": {},
   "outputs": [],
   "source": [
    "country.insert(0,'OverAll')"
   ]
  },
  {
   "cell_type": "code",
   "execution_count": null,
   "metadata": {},
   "outputs": [],
   "source": [
    "def fetch_medal_tally(df,year,country):\n",
    "    \n",
    "    flag=0\n",
    "    \n",
    "    medals = df.drop_duplicates(subset=['Team','NOC','Games','Year','City','Sport', 'Event','Medal'])\n",
    "    \n",
    "    if year == 'OverAll' and country == 'OverAll':\n",
    "        temp_df = medals\n",
    "    elif (year !='OverAll') and (country == 'OverAll'):\n",
    "        temp_df = medals[medals['Year']==int(year)]\n",
    "    elif (year == 'OverAll') and (country != 'OverAll'):\n",
    "        flag=1\n",
    "        temp_df = medals[medals['region']==country]\n",
    "    elif (year != 'OverAll') and (country != 'OverAll'):\n",
    "        temp_df = medals[(medals['Year']==int(year)) & (medals['region']==country)]\n",
    "    \n",
    "    if flag == 1:\n",
    "        x = temp_df.groupby('Year').sum()[['Gold','Silver','Bronze']].sort_values('Year').reset_index()    \n",
    "    else:\n",
    "        x = temp_df.groupby('region').sum()[['Gold','Silver','Bronze']].sort_values('Gold',ascending=False).reset_index()\n",
    "    x['Total'] = x['Gold'] + x['Silver'] + x['Bronze']\n",
    "    \n",
    "    x[['Total','Gold','Silver','Bronze']]=x[['Total','Gold','Silver','Bronze']].astype('int')\n",
    "    \n",
    "    return x"
   ]
  },
  {
   "cell_type": "markdown",
   "metadata": {},
   "source": [
    "### OverAll Analysis\n",
    "\n",
    " * No.of Editions\n",
    " * No.of Cities\n",
    " * No.of Events/Sports\n",
    " * No.of Athletes\n",
    " * No.of Participating Countries\n",
    " * No.of Medals\n",
    " * Events Played Over the Years\n",
    " * Athletes Participated Over the Years\n",
    " * Participating countries Over the Years\n",
    " * No.of Events/Sports Over the Years\n",
    " * Most Successful Athletes\n"
   ]
  },
  {
   "cell_type": "code",
   "execution_count": null,
   "metadata": {},
   "outputs": [],
   "source": [
    "no_of_editions = df['Year'].unique().shape[0]-1 #Subtracting 1 because Olympics 1906 was Nullified\n",
    "no_of_cities = df['City'].unique().shape[0] #No. of Cities\n",
    "no_of_sports = df['Sport'].unique().shape[0] # No. of Sports Played in Olympics\n",
    "no_of_events = df['Event'].unique().shape[0] # No. of Events \n",
    "No_of_athletes = df['Name'].unique().shape[0] # No. of athletes \n",
    "no_of_countries = df['region'].unique().shape[0] # No. of Countries participated"
   ]
  },
  {
   "cell_type": "code",
   "execution_count": null,
   "metadata": {},
   "outputs": [],
   "source": [
    "# Plotting a Line graph of Participating nations over the year\n",
    "\n",
    "import plotly.express as px\n",
    "\n",
    "nations_over_time = df.drop_duplicates(['Year','region'])['Year'].value_counts().reset_index().sort_values('index')\n",
    "nations_over_time.rename(columns={'index':'Year','Year':'No_of_countries'},inplace=True)\n",
    "\n",
    "fig = px.line(nations_over_time,x='Year',y='count')\n",
    "fig.show()"
   ]
  },
  {
   "cell_type": "code",
   "execution_count": null,
   "metadata": {},
   "outputs": [],
   "source": [
    "# Plotting Number of events over time\n",
    "\n",
    "events_over_years = df.drop_duplicates(['Year','Event'])['Year'].value_counts().reset_index().sort_values('index')\n",
    "events_over_years.rename(columns={'index':'Year','Year':'Events'},inplace=True)\n",
    "\n",
    "fig = px.line(events_over_years,x='Year',y='Events')\n",
    "fig.show()"
   ]
  },
  {
   "cell_type": "code",
   "execution_count": null,
   "metadata": {},
   "outputs": [],
   "source": [
    "import seaborn as sns\n",
    "import matplotlib.pyplot as plt\n",
    "\n",
    "x = df.drop_duplicates(['Year','Sport','Event'])\n",
    "\n",
    "plt.figure(figsize=(25,25))\n",
    "sns.heatmap(x.pivot_table(index = 'Sport' , columns = 'Year' , values = 'Event', aggfunc='count').fillna(0).astype(int),annot=True)\n",
    "plt.show()"
   ]
  },
  {
   "cell_type": "code",
   "execution_count": null,
   "metadata": {},
   "outputs": [],
   "source": [
    "def athlete_success(df,sport):\n",
    "    temp_df = df.dropna(subset=['Medal'])\n",
    "    if sport != 'OverAll':\n",
    "        temp_df = temp_df[temp_df['Sport']==sport]\n",
    "    x = temp_df['Name'].value_counts().reset_index().head(10).merge(df,left_on='index',right_on='Name',how='left')[['index','Name_x','Sport','region']].drop_duplicates()\n",
    "    x.rename(columns={'index':'Name','Name_x':'Medals'},inplace=True)\n",
    "    return x"
   ]
  },
  {
   "cell_type": "code",
   "execution_count": null,
   "metadata": {},
   "outputs": [],
   "source": [
    "athlete_success(df,'OverAll')"
   ]
  }
 ],
 "metadata": {
  "kernelspec": {
   "display_name": "Python 3.9.7 ('base')",
   "language": "python",
   "name": "python3"
  },
  "language_info": {
   "codemirror_mode": {
    "name": "ipython",
    "version": 3
   },
   "file_extension": ".py",
   "mimetype": "text/x-python",
   "name": "python",
   "nbconvert_exporter": "python",
   "pygments_lexer": "ipython3",
   "version": "3.9.7"
  },
  "orig_nbformat": 4,
  "vscode": {
   "interpreter": {
    "hash": "ed08b402fda2f702e95c07836946664aae8757cf04fafeed651476e3a7433732"
   }
  }
 },
 "nbformat": 4,
 "nbformat_minor": 2
}
